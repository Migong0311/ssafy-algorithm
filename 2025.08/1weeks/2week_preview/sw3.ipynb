{
 "cells": [
  {
   "cell_type": "markdown",
   "id": "8a53e3c8",
   "metadata": {},
   "source": [
    "# 2063. 중간값 찾기"
   ]
  },
  {
   "cell_type": "markdown",
   "id": "e8ddf04e",
   "metadata": {},
   "source": [
    "### 1. N을 입력받고 조건 확인"
   ]
  },
  {
   "cell_type": "code",
   "execution_count": 17,
   "id": "fea6bbf3",
   "metadata": {},
   "outputs": [],
   "source": [
    "N = int(input())\n",
    "if N < 9 or N > 199 or N % 2 == 0:\n",
    "    print(\"Input out of range\")\n",
    "    exit()\n",
    "\n"
   ]
  },
  {
   "cell_type": "markdown",
   "id": "44125291",
   "metadata": {},
   "source": [
    "### 2. 점수 N개 입력받고 리스트로 저장"
   ]
  },
  {
   "cell_type": "code",
   "execution_count": 18,
   "id": "88673ea6",
   "metadata": {},
   "outputs": [],
   "source": [
    "scores = list(map(int, input().split()))"
   ]
  },
  {
   "cell_type": "markdown",
   "id": "162a5018",
   "metadata": {},
   "source": [
    "### 3. 점수를 오름차순 정렬"
   ]
  },
  {
   "cell_type": "code",
   "execution_count": 19,
   "id": "819dc183",
   "metadata": {},
   "outputs": [],
   "source": [
    "scores.sort()"
   ]
  },
  {
   "cell_type": "markdown",
   "id": "c4a6d8ca",
   "metadata": {},
   "source": [
    "### 4. 중간값 구하기 (중앙 인덱스 = N // 2)"
   ]
  },
  {
   "cell_type": "code",
   "execution_count": 20,
   "id": "95307842",
   "metadata": {},
   "outputs": [],
   "source": [
    "median = scores[N // 2]"
   ]
  },
  {
   "cell_type": "markdown",
   "id": "249bc20d",
   "metadata": {},
   "source": [
    "#### 5. N개의 입력 수랑 맞는지 검증 후 정렬하여 N개의 중앙값 도출 "
   ]
  },
  {
   "cell_type": "code",
   "execution_count": 21,
   "id": "c96570df",
   "metadata": {},
   "outputs": [
    {
     "name": "stdout",
     "output_type": "stream",
     "text": [
      "5\n"
     ]
    }
   ],
   "source": [
    "if len(scores) != N:\n",
    "        print(\"점수의 개수가 잘못되었습니다.\")\n",
    "else:\n",
    "    scores.sort()\n",
    "    median = scores[N // 2]\n",
    "    print(median)"
   ]
  }
 ],
 "metadata": {
  "kernelspec": {
   "display_name": "base",
   "language": "python",
   "name": "python3"
  },
  "language_info": {
   "codemirror_mode": {
    "name": "ipython",
    "version": 3
   },
   "file_extension": ".py",
   "mimetype": "text/x-python",
   "name": "python",
   "nbconvert_exporter": "python",
   "pygments_lexer": "ipython3",
   "version": "3.12.7"
  }
 },
 "nbformat": 4,
 "nbformat_minor": 5
}
