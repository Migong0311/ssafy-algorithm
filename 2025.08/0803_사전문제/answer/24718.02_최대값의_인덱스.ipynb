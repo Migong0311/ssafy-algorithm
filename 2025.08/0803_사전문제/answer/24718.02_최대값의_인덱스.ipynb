{
 "cells": [
  {
   "cell_type": "markdown",
   "id": "2edee170",
   "metadata": {},
   "source": [
    "\n",
    "# 가장 큰 숫자와 인덱스 찾기 문제 풀이\n",
    "\n",
    "이 노트북은 각 테스트 케이스에서 **가장 큰 숫자와 그 숫자의 인덱스**를 출력하는 파이썬 프로그램을 설명합니다.\n"
   ]
  },
  {
   "cell_type": "markdown",
   "id": "a1035436",
   "metadata": {},
   "source": [
    "\n",
    "## 문제 설명\n",
    "\n",
    "- 첫 번째 줄에 테스트 케이스 개수 `T`가 주어집니다.\n",
    "- 이후 `T`개의 테스트 케이스가 주어집니다.\n",
    "- 각 테스트 케이스는 두 줄로 구성됩니다:\n",
    "  - 첫 줄: 숫자의 개수 `N`\n",
    "  - 둘째 줄: 공백으로 구분된 `N`개의 정수\n",
    "- 각 테스트 케이스마다 최댓값과 그 인덱스를 출력합니다.\n",
    "\n",
    "### 출력 형식\n",
    "```\n",
    "#테스트번호 최댓값 인덱스\n",
    "```\n"
   ]
  },
  {
   "cell_type": "markdown",
   "id": "38855a67",
   "metadata": {},
   "source": [
    "\n",
    "### 입력 예시\n",
    "```\n",
    "3\n",
    "5\n",
    "100 9 50 20 10\n",
    "1\n",
    "99\n",
    "3\n",
    "1 2 3\n",
    "```\n",
    "\n",
    "### 출력 예시\n",
    "```\n",
    "#1 100 0\n",
    "#2 99 0\n",
    "#3 3 2\n",
    "```\n"
   ]
  },
  {
   "cell_type": "code",
   "execution_count": null,
   "id": "dbb083db",
   "metadata": {},
   "outputs": [],
   "source": [
    "T = int(input())  # 테스트 케이스 개수를 입력받음\n",
    "\n",
    "for t in range(1, T + 1):  # T번 반복\n",
    "    N = int(input())  # 숫자의 개수 입력\n",
    "    numbers = list(map(int, input().split()))  # 숫자 리스트로 변환\n",
    "\n",
    "    max_number = numbers[0]  # 최댓값 초기값 설정\n",
    "    max_index = 0  # 최댓값 인덱스 초기값\n",
    "\n",
    "    for i in range(1, N):\n",
    "        if numbers[i] > max_number:\n",
    "            max_number = numbers[i]\n",
    "            max_index = i\n",
    "\n",
    "    print(f\"#{t} {max_number} {max_index}\")\n"
   ]
  },
  {
   "cell_type": "markdown",
   "id": "e3b0e656",
   "metadata": {},
   "source": [
    "\n",
    "## 풀이 설명\n",
    "\n",
    "1. 테스트 케이스 수 `T`를 입력받음\n",
    "2. 각 테스트 케이스마다\n",
    "   - 숫자의 개수 `N`을 입력받고\n",
    "   - `N`개의 숫자를 리스트로 받음\n",
    "   - 첫 번째 숫자를 기준으로 최댓값과 인덱스를 초기화함\n",
    "   - 반복문을 돌면서 더 큰 수가 나오면 최댓값과 인덱스를 갱신함\n",
    "3. `f-string`을 사용해 `#테스트번호 최댓값 인덱스` 형식으로 출력함\n"
   ]
  }
 ],
 "metadata": {},
 "nbformat": 4,
 "nbformat_minor": 5
}
