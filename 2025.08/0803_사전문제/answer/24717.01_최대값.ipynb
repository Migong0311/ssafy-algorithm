{
 "cells": [
  {
   "cell_type": "markdown",
   "id": "2caace05",
   "metadata": {},
   "source": [
    "\n",
    "# 가장 큰 숫자 찾기 문제 풀이\n",
    "\n",
    "이 노트북은 주어진 테스트 케이스들에서 각 케이스별로 가장 큰 숫자를 찾는 파이썬 프로그램을 설명합니다.\n"
   ]
  },
  {
   "cell_type": "markdown",
   "id": "9fba1a22",
   "metadata": {},
   "source": [
    "\n",
    "## 문제 설명\n",
    "\n",
    "- 첫 번째 줄에 테스트 케이스 개수 `T`가 주어집니다.\n",
    "- 이후 `T`개의 테스트 케이스가 주어집니다.\n",
    "- 각 테스트 케이스는 두 줄로 구성됩니다:\n",
    "  - 첫 줄: 숫자의 개수 `N`\n",
    "  - 둘째 줄: 공백으로 구분된 `N`개의 정수\n",
    "- 각 테스트 케이스마다 최댓값을 찾아 `#테스트번호 최댓값` 형식으로 출력합니다.\n"
   ]
  },
  {
   "cell_type": "markdown",
   "id": "273d7733",
   "metadata": {},
   "source": [
    "\n",
    "### 입력 예시\n",
    "```\n",
    "3\n",
    "5\n",
    "100 9 50 20 10\n",
    "1\n",
    "99\n",
    "3\n",
    "1 2 3\n",
    "```\n",
    "\n",
    "### 출력 예시\n",
    "```\n",
    "#1 100\n",
    "#2 99\n",
    "#3 3\n",
    "```\n"
   ]
  },
  {
   "cell_type": "code",
   "execution_count": null,
   "id": "8911a55e",
   "metadata": {},
   "outputs": [],
   "source": [
    "T = int(input())  # 테스트 케이스 개수를 입력받음\n",
    "\n",
    "for t in range(1, T + 1):  # 1부터 T까지 반복함\n",
    "    N = int(input())  # 이번 테스트 케이스에서 숫자의 개수를 입력받음\n",
    "    numbers = list(map(int, input().split()))  # 숫자들을 정수 리스트로 변환함\n",
    "\n",
    "    # 숫자 리스트에서 최댓값 찾기 \n",
    "    max_number = max(numbers)\n",
    "\n",
    "    # 출력 형식대로 출력\n",
    "    print(f\"#{{t}} {{max_number}}\")\n"
   ]
  },
  {
   "cell_type": "markdown",
   "id": "19682a5a",
   "metadata": {},
   "source": [
    "\n",
    "## 풀이 설명\n",
    "\n",
    "1. `input()`으로 값을 입력받습니다.\n",
    "2. `map(int, input().split())`로 문자열 숫자를 정수 리스트로 바꿉니다.\n",
    "3. `max()` 함수를 이용해 최댓값을 구합니다.\n",
    "4. `f-string`을 이용해 `#테스트번호 최댓값` 형식으로 출력합니다.\n"
   ]
  }
 ],
 "metadata": {},
 "nbformat": 4,
 "nbformat_minor": 5
}
